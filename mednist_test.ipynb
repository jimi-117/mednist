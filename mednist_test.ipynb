{
 "cells": [
  {
   "cell_type": "code",
   "execution_count": 1,
   "id": "df224dc6-6994-4d1b-9724-8899f1f855b5",
   "metadata": {
    "tags": []
   },
   "outputs": [],
   "source": [
    "# These are my default settings\n",
    "import warnings\n",
    "warnings.filterwarnings(\"ignore\")\n",
    "\n",
    "import os\n",
    "import pandas as pd\n",
    "import numpy as np\n",
    "import matplotlib.pyplot as plt\n",
    "%matplotlib inline\n",
    "import seaborn as sns\n",
    "import joblib\n",
    "\n",
    "plt.rcParams[\"figure.figsize\"] = (12, 6)\n",
    "sns.set()\n",
    "pd.set_option(\"display.max_columns\", None)\n",
    "\n",
    "import zipfile\n",
    "import shutil"
   ]
  },
  {
   "cell_type": "code",
   "execution_count": 2,
   "id": "ae7f452a-de0d-439c-a027-42a8aff9e3b2",
   "metadata": {
    "tags": []
   },
   "outputs": [],
   "source": [
    "shutil.unpack_archive('Data.zip', 'Mednist')"
   ]
  },
  {
   "cell_type": "markdown",
   "id": "becf6514-fe34-4f3b-b6ec-09a42959fa7e",
   "metadata": {},
   "source": [
    "# load test data, trained CNN model"
   ]
  },
  {
   "cell_type": "code",
   "execution_count": 1,
   "id": "10434fdb-2a97-4733-b063-c9089b9694b9",
   "metadata": {
    "tags": []
   },
   "outputs": [
    {
     "name": "stdin",
     "output_type": "stream",
     "text": [
      "Enter your file path \n"
     ]
    }
   ],
   "source": [
    "test_dir = input(\"Enter your file path\")"
   ]
  },
  {
   "cell_type": "code",
   "execution_count": null,
   "id": "ae9e39ab-1d0c-4b6e-adc7-5e6b8d0ed220",
   "metadata": {
    "tags": []
   },
   "outputs": [],
   "source": [
    "from tensorflow.keras import models\n",
    "\n",
    "model = models.load_model(\"cnn_model\")\n",
    "model.summary()"
   ]
  },
  {
   "cell_type": "markdown",
   "id": "7656fde8-5a8a-41b1-9a75-4b6ab2c173c5",
   "metadata": {},
   "source": [
    "# Preprocessing"
   ]
  },
  {
   "cell_type": "code",
   "execution_count": null,
   "id": "aac46491-60d8-4d6f-8b26-e66647b6293a",
   "metadata": {
    "tags": []
   },
   "outputs": [],
   "source": [
    "# Get batch size\n",
    "\n",
    "import os\n",
    "import glob\n",
    "\n",
    "def get_full_batch_size(data_dir):\n",
    "    image_files = []\n",
    "    for class_dir in os.listdir(data_dir):\n",
    "        class_image_files = glob.glob(os.path.join(data_dir, class_dir, '*'))\n",
    "        image_files.extend(class_image_files)\n",
    "    return len(image_files)\n"
   ]
  },
  {
   "cell_type": "code",
   "execution_count": null,
   "id": "2acfe6c9-dc2d-4d4f-b148-25d3850df954",
   "metadata": {
    "tags": []
   },
   "outputs": [],
   "source": [
    "get_full_batch_size(test_dir)"
   ]
  },
  {
   "cell_type": "code",
   "execution_count": null,
   "id": "66ee4ca3-c005-4ab8-be47-e28b13100f75",
   "metadata": {
    "tags": []
   },
   "outputs": [],
   "source": [
    "# setting get image\n",
    "\n",
    "BATCH_SIZE = get_full_batch_size(test_dir)\n",
    "IMAGE_SIZE = (64, 64)\n",
    "RANDOM_STATE = 42"
   ]
  },
  {
   "cell_type": "code",
   "execution_count": null,
   "id": "3cbe2a04-85f5-49eb-982a-cc2f31a11219",
   "metadata": {
    "tags": []
   },
   "outputs": [],
   "source": [
    "import tensorflow as tf\n",
    "from tensorflow.keras.utils import image_dataset_from_directory\n",
    "from tensorflow.keras.layers import Rescaling\n",
    "\n",
    "normalization_layer = tf.keras.layers.Rescaling(1./255)\n",
    "\n",
    "def preprocessor(data_dir):\n",
    "    data = image_dataset_from_directory(\n",
    "        data_dir,\n",
    "        seed=RANDOM_STATE,\n",
    "        image_size=IMAGE_SIZE,\n",
    "        batch_size=BATCH_SIZE\n",
    "    )\n",
    "    c_names = data.class_names\n",
    "    normalized_ds = data.map(lambda x, y: (normalization_layer(x), y))\n",
    "    images, labels = next(iter(normalized_ds))\n",
    "    \n",
    "    return normalized_ds, images, labels, c_names\n"
   ]
  },
  {
   "cell_type": "code",
   "execution_count": null,
   "id": "d0a76cf5-2495-4612-b063-be0ff3c068c4",
   "metadata": {
    "scrolled": true,
    "tags": []
   },
   "outputs": [],
   "source": [
    "test_data, X, y, CLASS_NAMES = preprocessor(test_dir)"
   ]
  },
  {
   "cell_type": "code",
   "execution_count": null,
   "id": "9fda5300-8e5e-468a-a62d-2a3bbd788fcb",
   "metadata": {
    "tags": []
   },
   "outputs": [],
   "source": [
    "print(X.shape, y.shape)"
   ]
  },
  {
   "cell_type": "code",
   "execution_count": null,
   "id": "68c5b512-a611-419c-a215-5a4722cfb45d",
   "metadata": {
    "tags": []
   },
   "outputs": [],
   "source": [
    "CLASS_NAMES"
   ]
  },
  {
   "cell_type": "markdown",
   "id": "3c0a9a6a-0e1e-4de3-ae42-531fa15bb455",
   "metadata": {},
   "source": [
    "# Prediction and evaluation"
   ]
  },
  {
   "cell_type": "code",
   "execution_count": null,
   "id": "a7bb70b7-2c24-4989-92b8-627ea1ae15d0",
   "metadata": {
    "tags": []
   },
   "outputs": [],
   "source": [
    "from sklearn.metrics import classification_report, confusion_matrix\n",
    "\n",
    "def prediction(model, features, labels):\n",
    "    pred = model.predict(features)\n",
    "    pred_labels = np.argmax(pred, axis=1)\n",
    "    return pred_labels"
   ]
  },
  {
   "cell_type": "code",
   "execution_count": null,
   "id": "1ffd3924-117a-46fa-ac0c-6edfc154023e",
   "metadata": {
    "tags": []
   },
   "outputs": [],
   "source": [
    "y_pred = prediction(model, X, y)"
   ]
  },
  {
   "cell_type": "code",
   "execution_count": null,
   "id": "9de6d4b5-3a41-4626-8400-1e23b611ebb6",
   "metadata": {
    "tags": []
   },
   "outputs": [],
   "source": [
    "print(classification_report(y, y_pred, target_names=CLASS_NAMES))\n",
    "\n",
    "\n",
    "cm = confusion_matrix(y, y_pred)\n",
    "\n",
    "print(cm)\n",
    "sns.heatmap(cm, annot=True, fmt='g', cmap='Spectral')"
   ]
  },
  {
   "cell_type": "code",
   "execution_count": null,
   "id": "e3bb909d-df26-481a-a809-7e98225edacf",
   "metadata": {},
   "outputs": [],
   "source": []
  },
  {
   "cell_type": "code",
   "execution_count": 3,
   "id": "eaade8aa-d326-4a9a-a58d-759b6c84eb51",
   "metadata": {
    "tags": []
   },
   "outputs": [],
   "source": [
    "shutil.rmtree(\"Data\")"
   ]
  },
  {
   "cell_type": "code",
   "execution_count": null,
   "id": "5d4943b3-c79a-4456-a504-3f6c990f885d",
   "metadata": {},
   "outputs": [],
   "source": []
  }
 ],
 "metadata": {
  "kernelspec": {
   "display_name": "Python 3 (ipykernel)",
   "language": "python",
   "name": "python3"
  },
  "language_info": {
   "codemirror_mode": {
    "name": "ipython",
    "version": 3
   },
   "file_extension": ".py",
   "mimetype": "text/x-python",
   "name": "python",
   "nbconvert_exporter": "python",
   "pygments_lexer": "ipython3",
   "version": "3.9.18"
  }
 },
 "nbformat": 4,
 "nbformat_minor": 5
}
