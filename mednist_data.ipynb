{
 "cells": [
  {
   "cell_type": "markdown",
   "id": "7853754e-ab05-449a-9087-613ed532ea30",
   "metadata": {
    "tags": []
   },
   "source": [
    "## Prep"
   ]
  },
  {
   "cell_type": "code",
   "execution_count": 1,
   "id": "c61f835f-1807-48d9-8ea8-2909131dc763",
   "metadata": {
    "tags": []
   },
   "outputs": [],
   "source": [
    "import tensorflow as tf"
   ]
  },
  {
   "cell_type": "code",
   "execution_count": 2,
   "id": "1221e3c0-890e-4d57-bcc6-d65b7aa1d55e",
   "metadata": {
    "tags": []
   },
   "outputs": [
    {
     "name": "stdout",
     "output_type": "stream",
     "text": [
      "PhysicalDevice(name='/physical_device:GPU:0', device_type='GPU') memory growth: True\n"
     ]
    }
   ],
   "source": [
    "physical_devices = tf.config.list_physical_devices('GPU')\n",
    "if len(physical_devices) > 0:\n",
    "    for device in physical_devices:\n",
    "        tf.config.experimental.set_memory_growth(device, True)\n",
    "        print('{} memory growth: {}'.format(device, tf.config.experimental.get_memory_growth(device)))\n",
    "else:\n",
    "    print(\"Not enough GPU hardware devices available\")"
   ]
  },
  {
   "cell_type": "code",
   "execution_count": 1,
   "id": "729acb1c-96df-4bec-80af-e1b609543b64",
   "metadata": {
    "tags": []
   },
   "outputs": [],
   "source": [
    "# These are my default settings\n",
    "import warnings\n",
    "warnings.filterwarnings(\"ignore\")\n",
    "\n",
    "import os\n",
    "import pandas as pd\n",
    "import numpy as np\n",
    "import matplotlib.pyplot as plt\n",
    "%matplotlib inline\n",
    "import seaborn as sns\n",
    "import joblib\n",
    "\n",
    "plt.rcParams[\"figure.figsize\"] = (12, 6)\n",
    "sns.set()\n",
    "pd.set_option(\"display.max_columns\", None)\n",
    "\n",
    "import zipfile\n",
    "import shutil"
   ]
  },
  {
   "cell_type": "code",
   "execution_count": 4,
   "id": "0bb3d65e-e7f6-4f78-a052-991f1ef58351",
   "metadata": {
    "tags": []
   },
   "outputs": [
    {
     "name": "stdout",
     "output_type": "stream",
     "text": [
      "TF version: 2.10.0\n",
      "GPU is available\n"
     ]
    }
   ],
   "source": [
    "import itertools\n",
    "import os\n",
    "\n",
    "import tensorflow as tf\n",
    "\n",
    "print(\"TF version:\", tf.__version__)\n",
    "print(\"GPU is\", \"available\" if tf.config.list_physical_devices('GPU') else \"NOT AVAILABLE\")"
   ]
  },
  {
   "cell_type": "code",
   "execution_count": null,
   "id": "762409cd-d6f8-4106-9a6d-6ca7fc310bae",
   "metadata": {},
   "outputs": [],
   "source": []
  },
  {
   "cell_type": "markdown",
   "id": "4ac350dd-6e72-4d60-9e5c-d700b56395fc",
   "metadata": {},
   "source": [
    "### unzip data"
   ]
  },
  {
   "cell_type": "code",
   "execution_count": 4,
   "id": "7771f0d7-522e-4b50-bf5c-5624467c5d60",
   "metadata": {},
   "outputs": [],
   "source": [
    "shutil.unpack_archive('MedNIST Train Data.zip')"
   ]
  },
  {
   "cell_type": "code",
   "execution_count": 5,
   "id": "40210981-db4b-448f-909b-cbc467416df4",
   "metadata": {
    "tags": []
   },
   "outputs": [],
   "source": [
    "data_dir = \"./MedNIST Training Dataset\""
   ]
  },
  {
   "cell_type": "code",
   "execution_count": 6,
   "id": "d1c5e604-d5c5-47d1-aba4-e1df9aeebaac",
   "metadata": {
    "tags": []
   },
   "outputs": [],
   "source": [
    "# setting get image\n",
    "\n",
    "BATCH_SIZE = 1024\n",
    "IMAGE_SIZE = (64, 64)\n",
    "\n",
    "train_size = 0.8\n",
    "valid_size = 0.2\n",
    "\n",
    "RANDOM_STATE = 42"
   ]
  },
  {
   "cell_type": "code",
   "execution_count": null,
   "id": "aa0273bd-93cd-47d1-9339-4a922f50a717",
   "metadata": {},
   "outputs": [],
   "source": []
  },
  {
   "cell_type": "markdown",
   "id": "6637e852-f043-462c-9453-f786301e296f",
   "metadata": {
    "tags": []
   },
   "source": [
    "## Check images"
   ]
  },
  {
   "cell_type": "code",
   "execution_count": 7,
   "id": "91107afd-5ae2-4235-8783-c48269af645d",
   "metadata": {
    "tags": []
   },
   "outputs": [],
   "source": [
    "# import PIL\n",
    "\n",
    "# # get label names\n",
    "# class_names = sorted(x for x in os.listdir(data_dir)\n",
    "#                      if os.path.isdir(os.path.join(data_dir, x)))\n",
    "\n",
    "# num_class = len(class_names)\n",
    "# image_files = [\n",
    "#     [\n",
    "#         os.path.join(data_dir, class_names[i], x)\n",
    "#         for x in os.listdir(os.path.join(data_dir, class_names[i]))\n",
    "#     ]\n",
    "#     for i in range(num_class)\n",
    "# ]\n",
    "# num_each = [len(image_files[i]) for i in range(num_class)]\n",
    "\n",
    "\n",
    "# image_files_list = []\n",
    "# image_class = []\n",
    "# for i in range(num_class):\n",
    "#     image_files_list.extend(image_files[i])\n",
    "#     image_class.extend([i] * num_each[i])\n",
    "    \n",
    "# num_total = len(image_class)\n",
    "# image_width, image_height = PIL.Image.open(image_files_list[0]).size\n",
    "\n",
    "\n",
    "\n",
    "# print(f\"Total image count: {num_total}\")\n",
    "# print(f\"Image dimensions: {image_width} x {image_height}\")\n",
    "# print(f\"Label names: {class_names}\")\n",
    "# print(f\"Label counts: {num_each}\")"
   ]
  },
  {
   "cell_type": "code",
   "execution_count": 8,
   "id": "9ae9d4ca-fdaa-4de9-94ea-7d11000e5c9b",
   "metadata": {
    "tags": []
   },
   "outputs": [],
   "source": [
    "# plt.subplots(3, 3, figsize=(8, 8))\n",
    "# for i, k in enumerate(np.random.randint(num_total, size=9)):\n",
    "#     im = PIL.Image.open(image_files_list[k])\n",
    "#     arr = np.array(im)\n",
    "#     plt.subplot(3, 3, i + 1)\n",
    "#     plt.xlabel(class_names[image_class[k]])\n",
    "#     plt.imshow(arr, cmap=\"gray\", vmin=0, vmax=255)\n",
    "# plt.tight_layout()\n",
    "# plt.show()"
   ]
  },
  {
   "cell_type": "markdown",
   "id": "77ee2201-28c9-4578-8964-fd3a7ae36bef",
   "metadata": {
    "tags": []
   },
   "source": [
    "## Get images (first execution only)"
   ]
  },
  {
   "cell_type": "code",
   "execution_count": 9,
   "id": "d9e32fcc-ae67-47aa-9cce-e10a09b91090",
   "metadata": {
    "tags": []
   },
   "outputs": [],
   "source": [
    "from tensorflow.keras.utils import image_dataset_from_directory"
   ]
  },
  {
   "cell_type": "code",
   "execution_count": 10,
   "id": "e31207f2-5d3a-44bf-95a3-20253d567bfe",
   "metadata": {
    "tags": []
   },
   "outputs": [
    {
     "name": "stdout",
     "output_type": "stream",
     "text": [
      "Found 47169 files belonging to 6 classes.\n",
      "Using 37736 files for training.\n"
     ]
    }
   ],
   "source": [
    "train_data = image_dataset_from_directory(\n",
    "    data_dir,\n",
    "    validation_split=0.2,\n",
    "    subset=\"training\",\n",
    "    seed=RANDOM_STATE,\n",
    "    image_size=IMAGE_SIZE,\n",
    "    batch_size=2048\n",
    ")"
   ]
  },
  {
   "cell_type": "code",
   "execution_count": 11,
   "id": "b18baf09-c25d-4582-86d9-83043a3c6029",
   "metadata": {
    "tags": []
   },
   "outputs": [
    {
     "name": "stdout",
     "output_type": "stream",
     "text": [
      "Found 47169 files belonging to 6 classes.\n",
      "Using 9433 files for validation.\n"
     ]
    }
   ],
   "source": [
    "validation_data = image_dataset_from_directory(\n",
    "    data_dir,\n",
    "    validation_split=0.2,\n",
    "    subset=\"validation\",\n",
    "    seed=RANDOM_STATE,\n",
    "    image_size=IMAGE_SIZE,\n",
    "    batch_size=2048\n",
    ")"
   ]
  },
  {
   "cell_type": "code",
   "execution_count": 12,
   "id": "6d4daa74-e233-4d7f-9bf8-2dea4301aec5",
   "metadata": {
    "tags": []
   },
   "outputs": [
    {
     "data": {
      "text/plain": [
       "['AbdomenCT', 'BreastMRI', 'CXR', 'ChestCT', 'Hand', 'HeadCT']"
      ]
     },
     "execution_count": 12,
     "metadata": {},
     "output_type": "execute_result"
    }
   ],
   "source": [
    "CLASS_NAMES = train_data.class_names\n",
    "CLASS_NAMES"
   ]
  },
  {
   "cell_type": "markdown",
   "id": "91cbe73a-3118-4eda-897d-74d2eb231841",
   "metadata": {},
   "source": [
    "## Preprocessing"
   ]
  },
  {
   "cell_type": "code",
   "execution_count": 13,
   "id": "22ac1bfb-a3b9-43f4-bd02-11eb3dc62162",
   "metadata": {
    "tags": []
   },
   "outputs": [],
   "source": [
    "from tensorflow.keras.layers import Rescaling, Dense, Input\n",
    "normalization_layer = tf.keras.layers.Rescaling(1./255)"
   ]
  },
  {
   "cell_type": "code",
   "execution_count": 14,
   "id": "707ba9f4-f1a4-4e34-af58-d8158ce70faa",
   "metadata": {
    "tags": []
   },
   "outputs": [
    {
     "name": "stdout",
     "output_type": "stream",
     "text": [
      "0.0 1.0\n"
     ]
    }
   ],
   "source": [
    "normalized_ds = train_data.map(lambda x, y: (normalization_layer(x), y))\n",
    "image_batch, labels_batch = next(iter(normalized_ds))\n",
    "first_image = image_batch[0]\n",
    "\n",
    "# Notice the pixel values are now in `[0,1]`.\n",
    "print(np.min(first_image), np.max(first_image))"
   ]
  },
  {
   "cell_type": "code",
   "execution_count": 15,
   "id": "57998485-3895-4088-839c-c6d9298f40ae",
   "metadata": {
    "tags": []
   },
   "outputs": [],
   "source": [
    "normalized_val = validation_data.map(lambda x, y: (normalization_layer(x), y))"
   ]
  },
  {
   "cell_type": "code",
   "execution_count": 16,
   "id": "5a706c2b-b314-4d8c-adb5-49961f16fc0f",
   "metadata": {
    "tags": []
   },
   "outputs": [
    {
     "data": {
      "text/plain": [
       "6"
      ]
     },
     "execution_count": 16,
     "metadata": {},
     "output_type": "execute_result"
    }
   ],
   "source": [
    "len(CLASS_NAMES)"
   ]
  },
  {
   "cell_type": "code",
   "execution_count": 17,
   "id": "d6bb0ae2-82df-49d6-b86b-0ed66d7b70e5",
   "metadata": {
    "tags": []
   },
   "outputs": [
    {
     "data": {
      "text/plain": [
       "<BatchDataset element_spec=(TensorSpec(shape=(None, 64, 64, 3), dtype=tf.float32, name=None), TensorSpec(shape=(None,), dtype=tf.int32, name=None))>"
      ]
     },
     "execution_count": 17,
     "metadata": {},
     "output_type": "execute_result"
    }
   ],
   "source": [
    "train_data"
   ]
  },
  {
   "cell_type": "code",
   "execution_count": 18,
   "id": "a7aaafab-9250-4e60-b73a-47ca9ed3c402",
   "metadata": {
    "scrolled": true,
    "tags": []
   },
   "outputs": [
    {
     "data": {
      "image/png": "[encoded data removed]",
      "text/plain": [
       "<Figure size 500x500 with 1 Axes>"
      ]
     },
     "metadata": {},
     "output_type": "display_data"
    },
    {
     "data": {
      "image/png": "[encoded data removed]",
      "text/plain": [
       "<Figure size 500x500 with 1 Axes>"
      ]
     },
     "metadata": {},
     "output_type": "display_data"
    },
    {
     "data": {
      "image/png": "[encoded data removed]",
      "text/plain": [
       "<Figure size 500x500 with 1 Axes>"
      ]
     },
     "metadata": {},
     "output_type": "display_data"
    },
    {
     "data": {
      "image/png": "[encoded data removed]",
      "text/plain": [
       "<Figure size 500x500 with 1 Axes>"
      ]
     },
     "metadata": {},
     "output_type": "display_data"
    },
    {
     "data": {
      "image/png": "[encoded data removed]",
      "text/plain": [
       "<Figure size 500x500 with 1 Axes>"
      ]
     },
     "metadata": {},
     "output_type": "display_data"
    }
   ],
   "source": [
    "for images, labels in normalized_ds.take(1):\n",
    "    \n",
    "    for i in range(5):\n",
    "        \n",
    "        plt.figure(figsize=(5,5))\n",
    "        plt.imshow(images[i])\n",
    "        plt.title(f'Label: {labels[i]}')\n",
    "        plt.axis('off')\n",
    "        plt.show()"
   ]
  },
  {
   "cell_type": "markdown",
   "id": "83810398-230d-4c22-84f5-2b55f799b485",
   "metadata": {},
   "source": [
    "## Simple CNN"
   ]
  },
  {
   "cell_type": "code",
   "execution_count": 19,
   "id": "8d252b29-6586-4c7f-85ac-6dd3837cf792",
   "metadata": {
    "tags": []
   },
   "outputs": [],
   "source": [
    "AUTOTUNE = tf.data.AUTOTUNE\n",
    "\n",
    "train_ds = train_data.cache().prefetch(buffer_size=AUTOTUNE)\n",
    "val_ds = validation_data.cache().prefetch(buffer_size=AUTOTUNE)"
   ]
  },
  {
   "cell_type": "code",
   "execution_count": 20,
   "id": "1a44814b-7431-44b9-b287-e027fa468173",
   "metadata": {
    "tags": []
   },
   "outputs": [
    {
     "data": {
      "text/plain": [
       "<PrefetchDataset element_spec=(TensorSpec(shape=(None, 64, 64, 3), dtype=tf.float32, name=None), TensorSpec(shape=(None,), dtype=tf.int32, name=None))>"
      ]
     },
     "execution_count": 20,
     "metadata": {},
     "output_type": "execute_result"
    }
   ],
   "source": [
    "train_ds"
   ]
  },
  {
   "cell_type": "code",
   "execution_count": 21,
   "id": "383bf20f-4175-4ebf-9f8e-f655f2dadc72",
   "metadata": {
    "tags": []
   },
   "outputs": [],
   "source": [
    "from tensorflow.keras import layers, Sequential\n",
    "from tensorflow.keras.layers import Conv2D, MaxPooling2D, Flatten\n",
    "\n",
    "num_classes = len(CLASS_NAMES)\n",
    "\n",
    "model = Sequential([\n",
    "    Conv2D(filters=16, kernel_size=3, strides=1, activation=\"relu\", input_shape=(64, 64, 3)),\n",
    "    MaxPooling2D(pool_size=(2,2)),\n",
    "    Conv2D(filters=32, kernel_size=3, strides=1, activation='relu'),\n",
    "    MaxPooling2D(pool_size=(2, 2)),\n",
    "    Conv2D(filters=64, kernel_size=3, strides=1, activation='relu'),\n",
    "    MaxPooling2D(pool_size=(2, 2)),\n",
    "    Flatten(),\n",
    "    Dense(units=512, activation='relu'),\n",
    "    Dense(units=num_classes, activation=\"softmax\")\n",
    "])"
   ]
  },
  {
   "cell_type": "code",
   "execution_count": 22,
   "id": "7fb35299-017e-4963-bd1c-1c7e6229896c",
   "metadata": {
    "tags": []
   },
   "outputs": [],
   "source": [
    "model.compile(\n",
    "    optimizer=\"adam\",\n",
    "    loss=\"sparse_categorical_crossentropy\",\n",
    "    metrics=\"accuracy\"\n",
    ")"
   ]
  },
  {
   "cell_type": "code",
   "execution_count": 23,
   "id": "c6a38d1c-6e51-4d64-b8b6-2f44cb6ebc8d",
   "metadata": {
    "tags": []
   },
   "outputs": [
    {
     "name": "stdout",
     "output_type": "stream",
     "text": [
      "Epoch 1/20\n",
      "19/19 [==============================] - 17s 281ms/step - loss: 0.6208 - accuracy: 0.8114 - val_loss: 0.2362 - val_accuracy: 0.8959\n",
      "Epoch 2/20\n",
      "19/19 [==============================] - 8s 304ms/step - loss: 0.1270 - accuracy: 0.9586 - val_loss: 0.0631 - val_accuracy: 0.9908\n",
      "Epoch 3/20\n",
      "19/19 [==============================] - 9s 324ms/step - loss: 0.0438 - accuracy: 0.9922 - val_loss: 0.0277 - val_accuracy: 0.9952\n",
      "Epoch 4/20\n",
      "19/19 [==============================] - 8s 317ms/step - loss: 0.0209 - accuracy: 0.9955 - val_loss: 0.0168 - val_accuracy: 0.9960\n",
      "Epoch 5/20\n",
      "19/19 [==============================] - 9s 315ms/step - loss: 0.0139 - accuracy: 0.9970 - val_loss: 0.0115 - val_accuracy: 0.9972\n",
      "Epoch 6/20\n",
      "19/19 [==============================] - 9s 321ms/step - loss: 0.0087 - accuracy: 0.9978 - val_loss: 0.0083 - val_accuracy: 0.9984\n",
      "Epoch 7/20\n",
      "19/19 [==============================] - 9s 321ms/step - loss: 0.0069 - accuracy: 0.9984 - val_loss: 0.0062 - val_accuracy: 0.9988\n",
      "Epoch 8/20\n",
      "19/19 [==============================] - 9s 324ms/step - loss: 0.0052 - accuracy: 0.9990 - val_loss: 0.0067 - val_accuracy: 0.9982\n",
      "Epoch 9/20\n",
      "19/19 [==============================] - 9s 321ms/step - loss: 0.0038 - accuracy: 0.9992 - val_loss: 0.0038 - val_accuracy: 0.9987\n",
      "Epoch 10/20\n",
      "19/19 [==============================] - 9s 323ms/step - loss: 0.0026 - accuracy: 0.9996 - val_loss: 0.0037 - val_accuracy: 0.9992\n",
      "Epoch 11/20\n",
      "19/19 [==============================] - 9s 321ms/step - loss: 0.0022 - accuracy: 0.9995 - val_loss: 0.0037 - val_accuracy: 0.9988\n",
      "Epoch 12/20\n",
      "19/19 [==============================] - 9s 343ms/step - loss: 0.0020 - accuracy: 0.9996 - val_loss: 0.0035 - val_accuracy: 0.9989\n",
      "Epoch 13/20\n",
      "19/19 [==============================] - 9s 338ms/step - loss: 0.0021 - accuracy: 0.9995 - val_loss: 0.0024 - val_accuracy: 0.9994\n",
      "Epoch 14/20\n",
      "19/19 [==============================] - 9s 341ms/step - loss: 0.0013 - accuracy: 0.9999 - val_loss: 0.0024 - val_accuracy: 0.9992\n",
      "Epoch 15/20\n",
      "19/19 [==============================] - 9s 344ms/step - loss: 8.7201e-04 - accuracy: 0.9999 - val_loss: 0.0024 - val_accuracy: 0.9992\n",
      "Epoch 16/20\n",
      "19/19 [==============================] - 9s 339ms/step - loss: 8.7063e-04 - accuracy: 0.9998 - val_loss: 0.0033 - val_accuracy: 0.9988\n",
      "Epoch 17/20\n",
      "19/19 [==============================] - 9s 345ms/step - loss: 7.0992e-04 - accuracy: 0.9999 - val_loss: 0.0023 - val_accuracy: 0.9992\n",
      "Epoch 18/20\n",
      "19/19 [==============================] - 9s 345ms/step - loss: 5.1769e-04 - accuracy: 0.9999 - val_loss: 0.0023 - val_accuracy: 0.9992\n",
      "Epoch 19/20\n",
      "19/19 [==============================] - 9s 359ms/step - loss: 4.6530e-04 - accuracy: 1.0000 - val_loss: 0.0021 - val_accuracy: 0.9994\n",
      "Epoch 20/20\n",
      "19/19 [==============================] - 9s 352ms/step - loss: 4.6583e-04 - accuracy: 0.9999 - val_loss: 0.0020 - val_accuracy: 0.9994\n"
     ]
    }
   ],
   "source": [
    "history = model.fit(\n",
    "    normalized_ds,\n",
    "    validation_data=normalized_val,\n",
    "    epochs=20,\n",
    "    batch_size = 1024\n",
    ")"
   ]
  },
  {
   "cell_type": "code",
   "execution_count": 52,
   "id": "382cd1d3-0209-48ab-b74f-8686a0b6f361",
   "metadata": {
    "tags": []
   },
   "outputs": [
    {
     "data": {
      "image/png": "[encoded data removed]",
      "text/plain": [
       "<Figure size 2000x500 with 2 Axes>"
      ]
     },
     "metadata": {},
     "output_type": "display_data"
    }
   ],
   "source": [
    "fig, ax = plt.subplots(1, 2, figsize=(20, 5))  # make 2 subplots\n",
    "\n",
    "# subplot for loss\n",
    "ax[0].plot(history.history['loss'])\n",
    "ax[0].plot(history.history['val_loss'], label=\"validation\")\n",
    "ax[0].set_xlabel('Epoch')\n",
    "ax[0].set_ylabel('Loss')\n",
    "ax[0].set_xlim(0, 20)\n",
    "ax[0].set_ylim(-0.01, 0.5)\n",
    "\n",
    "# subplot for acc\n",
    "ax[1].plot(history.history['accuracy'])\n",
    "ax[1].plot(history.history['val_accuracy'], label=\"validation\")\n",
    "ax[1].set_xlabel('Epoch')\n",
    "ax[1].set_ylabel('Accuracy')\n",
    "ax[1].set_xlim(0, 20)\n",
    "ax[1].set_ylim(0.85, 1.05)\n",
    "plt.legend()\n",
    "plt.show()"
   ]
  },
  {
   "cell_type": "code",
   "execution_count": 53,
   "id": "68ed7471-cc2e-450c-843c-3d58011bfff3",
   "metadata": {
    "tags": []
   },
   "outputs": [
    {
     "data": {
      "image/png": "[encoded data removed]",
      "text/plain": [
       "<Figure size 1000x700 with 1 Axes>"
      ]
     },
     "metadata": {},
     "output_type": "display_data"
    }
   ],
   "source": [
    "pd.DataFrame(history.history).plot(title=\"Train and validation results\",figsize=(10,7));"
   ]
  },
  {
   "cell_type": "markdown",
   "id": "ad1ac370-4052-45c6-9b4d-8596af7f43fa",
   "metadata": {},
   "source": [
    "## Evalation"
   ]
  },
  {
   "cell_type": "code",
   "execution_count": 24,
   "id": "00bfee96-4077-4a52-9a41-3ee99490d2be",
   "metadata": {
    "tags": []
   },
   "outputs": [
    {
     "name": "stdout",
     "output_type": "stream",
     "text": [
      "64/64 [==============================] - 1s 5ms/step\n",
      "              precision    recall  f1-score   support\n",
      "\n",
      "   AbdomenCT       1.00      1.00      1.00       346\n",
      "   BreastMRI       1.00      1.00      1.00       292\n",
      "         CXR       1.00      1.00      1.00       366\n",
      "     ChestCT       1.00      1.00      1.00       344\n",
      "        Hand       1.00      1.00      1.00       359\n",
      "      HeadCT       1.00      1.00      1.00       341\n",
      "\n",
      "    accuracy                           1.00      2048\n",
      "   macro avg       1.00      1.00      1.00      2048\n",
      "weighted avg       1.00      1.00      1.00      2048\n",
      "\n",
      "[[346   0   0   0   0   0]\n",
      " [  0 292   0   0   0   0]\n",
      " [  0   0 366   0   0   0]\n",
      " [  0   0   0 344   0   0]\n",
      " [  0   0   0   0 359   0]\n",
      " [  0   0   0   0   1 340]]\n"
     ]
    }
   ],
   "source": [
    "from sklearn.metrics import classification_report, confusion_matrix\n",
    "\n",
    "val_images, val_labels = next(iter(normalized_val))\n",
    "\n",
    "predictions = model.predict(val_images)\n",
    "predicted_labels = np.argmax(predictions, axis=1)\n",
    "\n",
    "\n",
    "print(classification_report(val_labels, predicted_labels, target_names=CLASS_NAMES))\n",
    "\n",
    "\n",
    "print(confusion_matrix(val_labels, predicted_labels))"
   ]
  },
  {
   "cell_type": "code",
   "execution_count": 28,
   "id": "607f070e-57fd-4c71-ac20-3a93081afdf6",
   "metadata": {
    "tags": []
   },
   "outputs": [
    {
     "data": {
      "text/plain": [
       "<Axes: >"
      ]
     },
     "execution_count": 28,
     "metadata": {},
     "output_type": "execute_result"
    },
    {
     "data": {
      "image/png": "[encoded data removed]",
      "text/plain": [
       "<Figure size 1000x600 with 2 Axes>"
      ]
     },
     "metadata": {},
     "output_type": "display_data"
    }
   ],
   "source": [
    "cm = confusion_matrix(val_labels, predicted_labels)\n",
    "sns.heatmap(cm, square=True, annot=True, cmap=\"Spectral\")"
   ]
  },
  {
   "cell_type": "markdown",
   "id": "303c3d8b-14e2-4b57-96e5-0a2309faf12d",
   "metadata": {},
   "source": [
    "# Save model"
   ]
  },
  {
   "cell_type": "code",
   "execution_count": 30,
   "id": "e296ebfe-5bdb-47e6-95db-199cf2ab8d75",
   "metadata": {
    "tags": []
   },
   "outputs": [
    {
     "name": "stderr",
     "output_type": "stream",
     "text": [
      "WARNING:absl:Found untraced functions such as _jit_compiled_convolution_op, _jit_compiled_convolution_op, _jit_compiled_convolution_op while saving (showing 3 of 3). These functions will not be directly callable after loading.\n"
     ]
    },
    {
     "name": "stdout",
     "output_type": "stream",
     "text": [
      "INFO:tensorflow:Assets written to: cnn_model\\assets\n"
     ]
    },
    {
     "name": "stderr",
     "output_type": "stream",
     "text": [
      "INFO:tensorflow:Assets written to: cnn_model\\assets\n"
     ]
    }
   ],
   "source": [
    "model.save(\"cnn_model\")"
   ]
  },
  {
   "cell_type": "code",
   "execution_count": null,
   "id": "8f294c14-514c-413e-a695-6eb6eaa61273",
   "metadata": {},
   "outputs": [],
   "source": []
  },
  {
   "cell_type": "markdown",
   "id": "1e07f6e2-cec2-485a-9a78-2c28269ca5c1",
   "metadata": {},
   "source": [
    "### zip data"
   ]
  },
  {
   "cell_type": "code",
   "execution_count": 2,
   "id": "1b56ee3b-010e-48ef-8a69-2955c7030d33",
   "metadata": {
    "tags": []
   },
   "outputs": [
    {
     "data": {
      "text/plain": [
       "'C:\\\\Users\\\\redoa\\\\workspace\\\\projects\\\\mednist\\\\MedNIST Train Data.zip'"
      ]
     },
     "execution_count": 2,
     "metadata": {},
     "output_type": "execute_result"
    }
   ],
   "source": [
    "shutil.make_archive('MedNIST Train Data', format='zip', root_dir='MedNIST Training Dataset')"
   ]
  },
  {
   "cell_type": "code",
   "execution_count": 3,
   "id": "e86c7c37-e288-46e1-8885-ea651a333a4e",
   "metadata": {
    "tags": []
   },
   "outputs": [],
   "source": [
    "shutil.rmtree(\"Mednist\")"
   ]
  },
  {
   "cell_type": "code",
   "execution_count": null,
   "id": "a27cf3bf-b699-42fa-b783-f8a495be9363",
   "metadata": {},
   "outputs": [],
   "source": []
  },
  {
   "cell_type": "markdown",
   "id": "3bab8b35-67a7-4569-8047-c2b3e64303c7",
   "metadata": {
    "tags": []
   },
   "source": [
    "# Extea efficientnet"
   ]
  },
  {
   "cell_type": "code",
   "execution_count": 26,
   "id": "eafe10b0-c45f-4c31-9e4a-1ff33a5e3c3b",
   "metadata": {
    "tags": []
   },
   "outputs": [],
   "source": [
    "# # Convert 64x64 images into 224*224\n",
    "# resized_dataset = image_dataset.map(lambda X, y: (tf.image.resize(X, [244, 244]), y))\n",
    "# resized_dataset"
   ]
  },
  {
   "cell_type": "code",
   "execution_count": 27,
   "id": "d9be3d4b-e32f-4467-85ce-34ceb5a02bea",
   "metadata": {
    "tags": []
   },
   "outputs": [],
   "source": [
    "# from sklearn.model_selection import StratifiedShuffleSplit\n",
    "\n",
    "# # Use list comprehension to convert images and labels to numpy arrays\n",
    "# # class_name = resized_dataset.class_names\n",
    "# X = [img for batch in list(resized_dataset.as_numpy_iterator()) for img in batch[0]]\n",
    "# y = [label for batch in list(resized_dataset.as_numpy_iterator()) for label in batch[1]]\n",
    "\n",
    "# images = np.asarray(X)\n",
    "# labels = np.asarray(y)"
   ]
  },
  {
   "cell_type": "code",
   "execution_count": 28,
   "id": "d2ebd081-9076-46f9-a695-264e36ec03b1",
   "metadata": {
    "tags": []
   },
   "outputs": [],
   "source": [
    "# print(type(images), type(labels))"
   ]
  },
  {
   "cell_type": "code",
   "execution_count": 29,
   "id": "abf230f1-0338-4409-abaa-6e01694794b3",
   "metadata": {
    "tags": []
   },
   "outputs": [],
   "source": [
    "# np.save(\"./save_file/images\", images)\n",
    "# np.save(\"./save_file/labels\", labels)"
   ]
  },
  {
   "cell_type": "markdown",
   "id": "9d093298-745f-461e-b321-a9e8cb4d47df",
   "metadata": {},
   "source": [
    "## Load Processed Data (after 2nd executions)"
   ]
  },
  {
   "cell_type": "code",
   "execution_count": 30,
   "id": "e9e21003-7ee3-44f7-a007-32a32462cfca",
   "metadata": {},
   "outputs": [],
   "source": [
    "# images = np.load(\"./save_file/images.npy\")\n",
    "# labels = np.load(\"./save_file/labels.npy\")\n",
    "\n",
    "# print(images.shape, labels.shape)"
   ]
  },
  {
   "cell_type": "markdown",
   "id": "92ab46e8-0dc7-4ac1-831a-a5c17529f5b5",
   "metadata": {},
   "source": [
    "## Data split"
   ]
  },
  {
   "cell_type": "code",
   "execution_count": 31,
   "id": "49deae99-c9c2-4a07-a2a3-397766de1265",
   "metadata": {
    "tags": []
   },
   "outputs": [],
   "source": [
    "# from sklearn.model_selection import train_test_split\n",
    "# X_train, X_valid, y_train, y_valid = train_test_split(images, labels, test_size=0.2, random_state=RANDOM_STATE, stratify=labels)"
   ]
  },
  {
   "cell_type": "code",
   "execution_count": 32,
   "id": "006ae20a-3d76-4783-b15d-9386204730a5",
   "metadata": {
    "tags": []
   },
   "outputs": [],
   "source": [
    "# split = StratifiedShuffleSplit(n_splits=1, test_size=0.2, random_state=RANDOM_STATE)\n",
    "\n",
    "# for train_index, valid_index in split.split(images, labels):\n",
    "#     X_train, X_valid = images[train_index], images[valid_index]\n",
    "#     y_train, y_valid = labels[train_index], labels[valid_index]"
   ]
  },
  {
   "cell_type": "code",
   "execution_count": 33,
   "id": "58231c83-11ff-4325-bac2-1474bec058e2",
   "metadata": {},
   "outputs": [],
   "source": [
    "# print(X_train.shape, X_valid.shape, y_train.shape, y_valid.shape)"
   ]
  },
  {
   "cell_type": "code",
   "execution_count": null,
   "id": "ec978292-837a-4d62-81ec-e4521a3dbc94",
   "metadata": {},
   "outputs": [],
   "source": []
  },
  {
   "cell_type": "code",
   "execution_count": 34,
   "id": "b3818134-ef0e-40d6-ac2a-e79611eea313",
   "metadata": {
    "tags": []
   },
   "outputs": [],
   "source": [
    "# take data and labels lists\n",
    "\n",
    "# image_class_names = image_dataset.class_names\n",
    "# img_X = []\n",
    "# img_y = []\n",
    "# for img_ds_batch in list(image_dataset.as_numpy_iterator()):\n",
    "#     img_X.extend(img_ds_batch[0])\n",
    "#     img_y.extend(img_ds_batch[1])\n",
    "\n",
    "# img_X = np.asarray(img_X)\n",
    "# img_y = np.asarray(img_y)\n",
    "\n",
    "# or\n",
    "# class_name = image_dataset.class_names\n",
    "# X = [img for batch in list(image_dataset.as_numpy_iterator()) for img in batch[0]]\n",
    "# y = [label for batch in list(image_dataset.as_numpy_iterator()) for label in batch[1]]\n",
    "\n",
    "# X_np = np.asarray(X)\n",
    "# y_np = np.asarray(y)\n"
   ]
  },
  {
   "cell_type": "code",
   "execution_count": 35,
   "id": "814d76ee-b64c-4718-9851-b55c6cdd1794",
   "metadata": {
    "tags": []
   },
   "outputs": [],
   "source": [
    "# print(X_np.shape, y_np.shape)"
   ]
  },
  {
   "cell_type": "code",
   "execution_count": 36,
   "id": "6aea3bd7-6aec-46f3-9ef1-22586a66baa4",
   "metadata": {
    "tags": []
   },
   "outputs": [],
   "source": [
    "# print(img_X.shape, img_y.shape)"
   ]
  },
  {
   "cell_type": "code",
   "execution_count": 37,
   "id": "78cada48-f16e-4b9c-83c1-0601f4085aca",
   "metadata": {
    "tags": []
   },
   "outputs": [],
   "source": [
    "# Distribution check\n",
    "\n",
    "# Calculate the sizes of each split\n",
    "# train_size = len(X_train) / len(images)\n",
    "# valid_size = len(X_valid) / len(images)\n",
    "\n",
    "# Create a pie chart\n",
    "# plt.figure(figsize=(6, 6))\n",
    "# plt.pie([train_size, valid_size], labels=[\"Train\", \"Validation\"], autopct='%1.1f%%')\n",
    "# plt.title('Data Split')\n",
    "# plt.show()"
   ]
  },
  {
   "cell_type": "code",
   "execution_count": 38,
   "id": "134a576a-b460-4136-b517-6e94ce19186c",
   "metadata": {
    "tags": []
   },
   "outputs": [],
   "source": [
    "# # Labels distribution ckeck\n",
    "\n",
    "# # Calculate the class proportions for each dataset\n",
    "# train_counts = np.bincount(y_train)\n",
    "# valid_counts = np.bincount(y_valid)\n",
    "\n",
    "\n",
    "# # Normalize the counts to get proportions\n",
    "# train_props = train_counts / len(y_train)\n",
    "# valid_props = valid_counts / len(y_valid)\n",
    "\n",
    "# # Create a bar chart\n",
    "# labels = range(len(train_counts))  \n",
    "# x = np.arange(len(labels))\n",
    "# width = 0.2\n",
    "\n",
    "# fig, ax = plt.subplots()\n",
    "# rects1 = ax.bar(x - width, train_props, width, label='Train')\n",
    "# rects2 = ax.bar(x, valid_props, width, label='Validation')\n",
    "\n",
    "# ax.set_ylabel(\"Proportion\")\n",
    "# ax.set_xlabel(\"Classes\")\n",
    "# ax.set_title(\"Label distribution\")\n",
    "# ax.set_xticks(x)\n",
    "# ax.set_xticklabels(labels)\n",
    "# ax.legend()\n",
    "# ax.set_ylim(0.14, 0.18)\n",
    "# fig.tight_layout()\n",
    "# plt.show()\n"
   ]
  },
  {
   "cell_type": "code",
   "execution_count": 39,
   "id": "67036ad5-5671-4de1-8204-47c32813fea2",
   "metadata": {},
   "outputs": [],
   "source": [
    "# from tensorflow.keras.utils import to_categorical\n",
    "\n",
    "# num_classes = 6\n",
    "\n",
    "# y_train_preprocessed = to_categorical(y_train, num_classes)\n",
    "# y_valid_preprocessed = to_categorical(y_valid, num_classes)\n"
   ]
  },
  {
   "cell_type": "code",
   "execution_count": 40,
   "id": "b19228f0-917b-4ef4-be9a-e0ebecc53426",
   "metadata": {
    "tags": []
   },
   "outputs": [
    {
     "data": {
      "text/plain": [
       "1024"
      ]
     },
     "execution_count": 40,
     "metadata": {},
     "output_type": "execute_result"
    }
   ],
   "source": [
    "NUM_CLASSES = len(labels)\n",
    "NUM_CLASSES"
   ]
  },
  {
   "cell_type": "markdown",
   "id": "1e0a242d-e663-4b08-9584-83a494370759",
   "metadata": {
    "tags": []
   },
   "source": [
    "## Model"
   ]
  },
  {
   "cell_type": "code",
   "execution_count": 41,
   "id": "99f81f48-0076-4d4f-abc8-dfe80723b94c",
   "metadata": {
    "tags": []
   },
   "outputs": [],
   "source": [
    "# import tensorflow as tf\n",
    "# from tensorflow.keras.applications import EfficientNetV2B0\n",
    "# from tensorflow.keras import layers, Input, Model\n",
    "# from tensorflow.keras.layers import Dense\n",
    "# from tensorflow.keras.losses import sparse_categorical_crossentropy as SCC\n"
   ]
  },
  {
   "cell_type": "code",
   "execution_count": 42,
   "id": "4fac320f-78a6-4097-a153-32fa875f276a",
   "metadata": {
    "tags": []
   },
   "outputs": [],
   "source": [
    "# base_model = EfficientNetV2B0(\n",
    "#     include_top=False,\n",
    "#     weights=\"imagenet\",\n",
    "#     input_shape=(224,224,3),\n",
    "# )\n",
    "\n",
    "# base_model.trainable = False"
   ]
  },
  {
   "cell_type": "code",
   "execution_count": 43,
   "id": "9fb711b6-53e5-43b9-abbe-ed2df23533f2",
   "metadata": {
    "tags": []
   },
   "outputs": [],
   "source": [
    "# inputs = Input(shape=(224,224,3))\n",
    "# x = base_model(inputs, training=False)\n",
    "\n",
    "# outputs = Dense(NUM_CLASSES)(x)\n",
    "\n",
    "# model = Model(inputs, outputs)"
   ]
  },
  {
   "cell_type": "code",
   "execution_count": 44,
   "id": "cdb8781e-0abc-40db-be80-98c8a17d668b",
   "metadata": {
    "tags": []
   },
   "outputs": [],
   "source": [
    "# model.summary()"
   ]
  },
  {
   "cell_type": "markdown",
   "id": "d6443a28-a1a2-4a48-9d26-ef79374dd413",
   "metadata": {},
   "source": [
    "## Compile"
   ]
  },
  {
   "cell_type": "code",
   "execution_count": 45,
   "id": "239c58cf-e2ba-42fc-9bb3-68ae615137f9",
   "metadata": {
    "tags": []
   },
   "outputs": [],
   "source": [
    "# model.compile(\n",
    "#     optimizer=\"adam\",\n",
    "#     loss=\"categorical_crossentropy\",\n",
    "#     metrics=[\"accuracy\"]\n",
    "# )"
   ]
  },
  {
   "cell_type": "code",
   "execution_count": 46,
   "id": "6e046d98-3864-4a53-9461-7073dab300c2",
   "metadata": {
    "tags": []
   },
   "outputs": [],
   "source": [
    "# model.fit(\n",
    "#     x=X_train,\n",
    "#     y=y_train,\n",
    "#     batch_size=512\n",
    "#     # validation_data=(X_valid, y_valid),\n",
    "# )\n",
    "# #"
   ]
  },
  {
   "cell_type": "code",
   "execution_count": 47,
   "id": "466604a3-58fc-4260-840f-249db2ef9ef4",
   "metadata": {
    "tags": []
   },
   "outputs": [],
   "source": [
    "# X_train_predixted = model.predict(X_train)\n",
    "# X_valid_predicted = model.predict(X_valid)"
   ]
  },
  {
   "cell_type": "code",
   "execution_count": null,
   "id": "e35ffa55-5f0d-47b9-86cc-b6afa716998f",
   "metadata": {},
   "outputs": [],
   "source": []
  },
  {
   "cell_type": "code",
   "execution_count": null,
   "id": "438b7664-7b98-4ea2-9a43-f1f601f961c6",
   "metadata": {},
   "outputs": [],
   "source": []
  },
  {
   "cell_type": "code",
   "execution_count": null,
   "id": "29cbfada-e29d-4720-b330-0b1488122412",
   "metadata": {},
   "outputs": [],
   "source": []
  }
 ],
 "metadata": {
  "kernelspec": {
   "display_name": "Python 3 (ipykernel)",
   "language": "python",
   "name": "python3"
  },
  "language_info": {
   "codemirror_mode": {
    "name": "ipython",
    "version": 3
   },
   "file_extension": ".py",
   "mimetype": "text/x-python",
   "name": "python",
   "nbconvert_exporter": "python",
   "pygments_lexer": "ipython3",
   "version": "3.9.18"
  }
 },
 "nbformat": 4,
 "nbformat_minor": 5
}
